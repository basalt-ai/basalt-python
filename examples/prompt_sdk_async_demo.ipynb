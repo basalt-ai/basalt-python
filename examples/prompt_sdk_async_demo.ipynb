{
 "cells": [
  {
   "cell_type": "markdown",
   "metadata": {},
   "source": [
    "# Basalt PromptSDK Async Demo\n",
    "\n",
    "This notebook demonstrates the asynchronous functionality of the PromptSDK in the Basalt Python SDK."
   ]
  },
  {
   "cell_type": "code",
   "execution_count": null,
   "metadata": {},
   "outputs": [],
   "source": [
    "import sys\n",
    "import os\n",
    "sys.path.append(os.path.abspath(os.path.join(os.getcwd(), '..')))  # Needed to make notebook work in VSCode\n",
    "\n",
    "os.environ[\"BASALT_BUILD\"] = \"development\"\n",
    "\n",
    "from basalt import Basalt\n",
    "\n",
    "# Initialize the SDK\n",
    "basalt = Basalt(\n",
    "    api_key=\"sk-f5...\",  # Replace with your API key\n",
    "    log_level=\"debug\"  # Optional: Set log level\n",
    ")"
   ]
  },
  {
   "cell_type": "markdown",
   "metadata": {},
   "source": [
    "## Example 1: Asynchronously List All Prompts\n",
    "\n",
    "This example demonstrates how to list all prompts asynchronously."
   ]
  },
  {
   "cell_type": "code",
   "execution_count": null,
   "metadata": {},
   "outputs": [],
   "source": [
    "async def list_prompts():\n",
    "    print(\"Listing all prompts asynchronously...\")\n",
    "    err, prompts = await basalt.prompt.async_list()\n",
    "    if err:\n",
    "        print(f\"Error listing prompts: {err}\")\n",
    "    else:\n",
    "        print(f\"Found {len(prompts)} prompts\")\n",
    "        for prompt in prompts:\n",
    "            print(f\"- {prompt.name} (slug: {prompt.slug})\")\n",
    "    return prompts\n",
    "\n",
    "# Run the async function\n",
    "prompts = await list_prompts()"
   ]
  },
  {
   "cell_type": "markdown",
   "metadata": {},
   "source": [
    "## Example 2: Asynchronously Get a Specific Prompt\n",
    "\n",
    "This example demonstrates how to retrieve a specific prompt by its slug."
   ]
  },
  {
   "cell_type": "code",
   "execution_count": null,
   "metadata": {},
   "outputs": [],
   "source": [
    "async def get_prompt(prompts):\n",
    "    print(\"\\nGetting a specific prompt asynchronously...\")\n",
    "    if len(prompts) > 0:\n",
    "        sample_prompt = prompts[0]\n",
    "        err, prompt_response, generation = await basalt.prompt.async_get(sample_prompt.slug)\n",
    "        if err:\n",
    "            print(f\"Error getting prompt: {err}\")\n",
    "        else:\n",
    "            print(f\"Retrieved prompt: {sample_prompt.name}\")\n",
    "            print(f\"Text: {prompt_response.text}\")\n",
    "        return sample_prompt, prompt_response, generation\n",
    "    else:\n",
    "        print(\"No prompts available\")\n",
    "        return None, None, None\n",
    "\n",
    "# Run the async function\n",
    "sample_prompt, prompt_response, generation = await get_prompt(prompts)"
   ]
  },
  {
   "cell_type": "markdown",
   "metadata": {},
   "source": [
    "## Example 3: Asynchronously Describe a Prompt\n",
    "\n",
    "This example demonstrates how to get detailed description information about a prompt."
   ]
  },
  {
   "cell_type": "code",
   "execution_count": null,
   "metadata": {},
   "outputs": [],
   "source": [
    "async def describe_prompt(sample_prompt):\n",
    "    print(\"\\nDescribing a prompt asynchronously...\")\n",
    "    if sample_prompt:\n",
    "        err, description = await basalt.prompt.async_describe(sample_prompt.slug)\n",
    "        if err:\n",
    "            print(f\"Error describing prompt: {err}\")\n",
    "        else:\n",
    "            print(f\"Prompt: {description.prompt.name}\")\n",
    "            print(f\"Versions available: {len(description.versions)}\")\n",
    "            for version in description.versions:\n",
    "                print(f\"- Version {version.version} created at {version.created_at}\")\n",
    "        return description\n",
    "    else:\n",
    "        print(\"No sample prompt available\")\n",
    "        return None\n",
    "\n",
    "# Run the async function\n",
    "description = await describe_prompt(sample_prompt)"
   ]
  },
  {
   "cell_type": "markdown",
   "metadata": {},
   "source": [
    "## Example 4: Asynchronously Get a Prompt with Variable Substitution\n",
    "\n",
    "This example demonstrates how to retrieve a prompt with variables substituted."
   ]
  },
  {
   "cell_type": "code",
   "execution_count": null,
   "metadata": {},
   "outputs": [],
   "source": [
    "async def get_prompt_with_variables(sample_prompt):\n",
    "    print(\"\\nGetting a prompt with variable substitution asynchronously...\")\n",
    "    if sample_prompt:\n",
    "        err, prompt_response, generation = await basalt.prompt.async_get(\n",
    "            sample_prompt.slug,\n",
    "            variables={\"name\": \"John\", \"company\": \"Acme Inc\"}\n",
    "        )\n",
    "        if err:\n",
    "            print(f\"Error getting prompt with variables: {err}\")\n",
    "        else:\n",
    "            print(f\"Retrieved prompt with variables: {sample_prompt.name}\")\n",
    "            print(f\"Text with variables: {prompt_response.text}\")\n",
    "        return prompt_response, generation\n",
    "    else:\n",
    "        print(\"No sample prompt available\")\n",
    "        return None, None\n",
    "\n",
    "# Run the async function\n",
    "prompt_with_vars, generation_with_vars = await get_prompt_with_variables(sample_prompt)"
   ]
  },
  {
   "cell_type": "markdown",
   "metadata": {},
   "source": [
    "## Example 5: Execute Multiple Prompt Operations Concurrently\n",
    "\n",
    "This example demonstrates how to execute multiple asynchronous operations concurrently for better performance."
   ]
  },
  {
   "cell_type": "code",
   "execution_count": null,
   "metadata": {},
   "outputs": [],
   "source": [
    "async def execute_concurrent_operations(prompts):\n",
    "    print(\"\\nExecuting multiple prompt operations concurrently...\")\n",
    "    if len(prompts) >= 2:\n",
    "        # Create multiple async tasks\n",
    "        tasks = [\n",
    "            basalt.prompt.async_get(prompts[0].slug),\n",
    "            basalt.prompt.async_get(prompts[1].slug),\n",
    "            basalt.prompt.async_list()\n",
    "        ]\n",
    "        \n",
    "        # Execute all tasks concurrently\n",
    "        results = await asyncio.gather(*tasks)\n",
    "        \n",
    "        print(f\"Completed {len(tasks)} operations concurrently\")\n",
    "        print(f\"First prompt: {results[0][1].slug if results[0][1] else 'Error'}\")\n",
    "        print(f\"Second prompt: {results[1][1].slug if results[1][1] else 'Error'}\")\n",
    "        print(f\"Number of prompts listed: {len(results[2][1]) if results[2][1] else 'Error'}\")\n",
    "    else:\n",
    "        print(\"Not enough prompts available for concurrent operations example\")\n",
    "\n",
    "# Run the async function\n",
    "await execute_concurrent_operations(prompts)"
   ]
  }
 ],
 "metadata": {
  "kernelspec": {
   "display_name": "Python 3",
   "language": "python",
   "name": "python3"
  },
  "language_info": {
   "codemirror_mode": {
    "name": "ipython",
    "version": 3
   },
   "file_extension": ".py",
   "mimetype": "text/x-python",
   "name": "python",
   "nbconvert_exporter": "python",
   "pygments_lexer": "ipython3",
   "version": "3.9.0"
  }
 },
 "nbformat": 4,
 "nbformat_minor": 4
}
