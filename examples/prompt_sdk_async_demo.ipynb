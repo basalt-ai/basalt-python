{
 "cells": [
  {
   "cell_type": "markdown",
   "metadata": {},
   "source": [
    "# Basalt PromptSDK Async Demo\n",
    "\n",
    "This notebook demonstrates the asynchronous functionality of the PromptSDK in the Basalt Python SDK."
   ]
  },
  {
   "cell_type": "code",
   "execution_count": null,
   "metadata": {},
   "outputs": [],
   "source": [
    "import os\n",
    "import sys\n",
    "\n",
    "sys.path.append(os.path.abspath(os.path.join(os.getcwd(), '..')))  # Needed to make notebook work in VSCode\n",
    "\n",
    "os.environ[\"BASALT_BUILD\"] = \"development\"\n",
    "\n",
    "from basalt import Basalt\n",
    "\n",
    "# Initialize the SDK\n",
    "basalt = Basalt(\n",
    "    api_key=\"sk-f5...\",  # Replace with your API key\n",
    "    log_level=\"debug\"  # Optional: Set log level\n",
    ")"
   ]
  },
  {
   "cell_type": "markdown",
   "metadata": {},
   "source": [
    "## Example 1: List All Prompts\n",
    "\n",
    "This example demonstrates how to list all prompts asynchronously."
   ]
  },
  {
   "cell_type": "code",
   "execution_count": null,
   "metadata": {},
   "outputs": [],
   "source": [
    "async def list_prompts():\n",
    "    err, prompts = await basalt.prompt.list()\n",
    "    if err:\n",
    "        pass\n",
    "    else:\n",
    "        for _prompt in prompts:\n",
    "            pass\n",
    "    return prompts\n",
    "\n",
    "# Run the async function\n",
    "prompts = await list_prompts()"
   ]
  },
  {
   "cell_type": "markdown",
   "metadata": {},
   "source": [
    "## Example 2: Get a Specific Prompt\n",
    "\n",
    "This example demonstrates how to retrieve a specific prompt by its slug."
   ]
  },
  {
   "cell_type": "code",
   "execution_count": null,
   "metadata": {},
   "outputs": [],
   "source": [
    "async def get_prompt(prompts):\n",
    "    if len(prompts) > 0:\n",
    "        sample_prompt = prompts[0]\n",
    "        err, prompt_response, generation = await basalt.prompt.get(sample_prompt.slug)\n",
    "        if err:\n",
    "            pass\n",
    "        else:\n",
    "            pass\n",
    "        return sample_prompt, prompt_response, generation\n",
    "    else:\n",
    "        return None, None, None\n",
    "\n",
    "# Run the async function\n",
    "sample_prompt, prompt_response, generation = await get_prompt(prompts)"
   ]
  },
  {
   "cell_type": "markdown",
   "metadata": {},
   "source": [
    "## Example 3: Asynchronously Describe a Prompt\n",
    "\n",
    "This example demonstrates how to get detailed description information about a prompt."
   ]
  },
  {
   "cell_type": "code",
   "execution_count": null,
   "metadata": {},
   "outputs": [],
   "source": [
    "async def describe_prompt(sample_prompt):\n",
    "    if sample_prompt:\n",
    "        err, description = await basalt.prompt.describe(sample_prompt.slug)\n",
    "        if err:\n",
    "            pass\n",
    "        else:\n",
    "            for _version in description.available_versions:\n",
    "                pass\n",
    "        return description\n",
    "    else:\n",
    "        return None\n",
    "\n",
    "# Run the async function\n",
    "description = await describe_prompt(sample_prompt)"
   ]
  },
  {
   "cell_type": "markdown",
   "metadata": {},
   "source": [
    "## Example 4: Get a Prompt with Variable Substitution\n",
    "\n",
    "This example demonstrates how to retrieve a prompt with variables substituted."
   ]
  },
  {
   "cell_type": "code",
   "execution_count": null,
   "metadata": {},
   "outputs": [],
   "source": [
    "async def get_prompt_with_variables(sample_prompt):\n",
    "    if sample_prompt:\n",
    "        err, prompt_response, generation = await basalt.prompt.get(\n",
    "            sample_prompt.slug,\n",
    "            variables={\"name\": \"John\", \"company\": \"Acme Inc\"}\n",
    "        )\n",
    "        if err:\n",
    "            pass\n",
    "        else:\n",
    "            pass\n",
    "        return prompt_response, generation\n",
    "    else:\n",
    "        return None, None\n",
    "\n",
    "# Run the async function\n",
    "prompt_with_vars, generation_with_vars = await get_prompt_with_variables(sample_prompt)"
   ]
  },
  {
   "cell_type": "markdown",
   "metadata": {},
   "source": [
    "## Example 5: Execute Multiple Prompt Operations Concurrently\n",
    "\n",
    "This example demonstrates how to execute multiple asynchronous operations concurrently for better performance."
   ]
  },
  {
   "cell_type": "code",
   "execution_count": null,
   "metadata": {},
   "outputs": [],
   "source": [
    "import asyncio\n",
    "\n",
    "\n",
    "async def execute_concurrent_operations(prompts):\n",
    "    if len(prompts) >= 2:\n",
    "        # Create multiple async tasks\n",
    "        tasks = [\n",
    "            basalt.prompt.get(prompts[0].slug),\n",
    "            basalt.prompt.get(prompts[1].slug),\n",
    "            basalt.prompt.list()\n",
    "        ]\n",
    "\n",
    "        # Execute all tasks concurrently\n",
    "        await asyncio.gather(*tasks)\n",
    "\n",
    "    else:\n",
    "        pass\n",
    "\n",
    "# Run the async function\n",
    "await execute_concurrent_operations(prompts)"
   ]
  }
 ],
 "metadata": {
  "kernelspec": {
   "display_name": "Python 3",
   "language": "python",
   "name": "python3"
  },
  "language_info": {
   "codemirror_mode": {
    "name": "ipython",
    "version": 3
   },
   "file_extension": ".py",
   "mimetype": "text/x-python",
   "name": "python",
   "nbconvert_exporter": "python",
   "pygments_lexer": "ipython3",
   "version": "3.9.0"
  }
 },
 "nbformat": 4,
 "nbformat_minor": 4
}
