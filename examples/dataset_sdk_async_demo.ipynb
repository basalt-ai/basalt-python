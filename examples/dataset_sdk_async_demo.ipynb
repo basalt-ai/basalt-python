{
 "cells": [
  {
   "cell_type": "markdown",
   "metadata": {},
   "source": [
    "# Basalt DatasetSDK Async Demo\n",
    "\n",
    "This notebook demonstrates the asynchronous functionality of the DatasetSDK in the Basalt Python SDK."
   ]
  },
  {
   "cell_type": "code",
   "execution_count": null,
   "metadata": {},
   "outputs": [],
   "source": [
    "import asyncio\n",
    "from basalt import Basalt\n",
    "import os"
   ]
  },
  {
   "cell_type": "markdown",
   "metadata": {},
   "source": [
    "## Setup\n",
    "\n",
    "Initialize the SDK with your API key. If you have the BASALT_API_KEY environment variable set, it will use that; otherwise, replace \"your-api-key\" with your actual API key."
   ]
  },
  {
   "cell_type": "code",
   "execution_count": null,
   "metadata": {},
   "outputs": [],
   "source": [
    "# Initialize the SDK with your API key\n",
    "api_key = os.environ.get(\"BASALT_API_KEY\", \"your-api-key\")\n",
    "\n",
    "# Create a Basalt client\n",
    "basalt = Basalt(api_key)"
   ]
  },
  {
   "cell_type": "markdown",
   "metadata": {},
   "source": [
    "## Example 1: Asynchronously List All Datasets\n",
    "\n",
    "This example demonstrates how to list all datasets asynchronously."
   ]
  },
  {
   "cell_type": "code",
   "execution_count": null,
   "metadata": {},
   "outputs": [],
   "source": [
    "async def list_datasets():\n",
    "    print(\"Listing all datasets asynchronously...\")\n",
    "    err, datasets = await basalt.datasets.async_list()\n",
    "    if err:\n",
    "        print(f\"Error listing datasets: {err}\")\n",
    "    else:\n",
    "        print(f\"Found {len(datasets)} datasets\")\n",
    "        for dataset in datasets:\n",
    "            print(f\"- {dataset.name} (slug: {dataset.slug})\")\n",
    "    return datasets\n",
    "\n",
    "# Run the async function\n",
    "datasets = await list_datasets()"
   ]
  },
  {
   "cell_type": "markdown",
   "metadata": {},
   "source": [
    "## Example 2: Asynchronously Get a Specific Dataset\n",
    "\n",
    "This example demonstrates how to retrieve a specific dataset by its slug."
   ]
  },
  {
   "cell_type": "code",
   "execution_count": null,
   "metadata": {},
   "outputs": [],
   "source": [
    "async def get_dataset(datasets):\n",
    "    print(\"\\nGetting a specific dataset asynchronously...\")\n",
    "    if len(datasets) > 0:\n",
    "        sample_dataset = datasets[0]\n",
    "        err, dataset = await basalt.datasets.async_get(sample_dataset.slug)\n",
    "        if err:\n",
    "            print(f\"Error getting dataset: {err}\")\n",
    "        else:\n",
    "            print(f\"Retrieved dataset: {dataset.name}\")\n",
    "            print(f\"Columns: {dataset.columns}\")\n",
    "            print(f\"Number of rows: {len(dataset.rows) if dataset.rows else 0}\")\n",
    "        return sample_dataset, dataset\n",
    "    else:\n",
    "        print(\"No datasets available\")\n",
    "        return None, None\n",
    "\n",
    "# Run the async function\n",
    "sample_dataset, dataset = await get_dataset(datasets)"
   ]
  },
  {
   "cell_type": "markdown",
   "metadata": {},
   "source": [
    "## Example 3: Asynchronously Add a Row to a Dataset\n",
    "\n",
    "This example demonstrates how to add a new row to an existing dataset."
   ]
  },
  {
   "cell_type": "code",
   "execution_count": null,
   "metadata": {},
   "outputs": [],
   "source": [
    "async def add_row(sample_dataset):\n",
    "    print(\"\\nAdding a row to a dataset asynchronously...\")\n",
    "    if sample_dataset:\n",
    "        # Create some sample values for the dataset row\n",
    "        values = {column: f\"Sample {column} value\" for column in sample_dataset.columns}\n",
    "        \n",
    "        err, row, warning = await basalt.datasets.async_addRow(\n",
    "            slug=sample_dataset.slug,\n",
    "            values=values,\n",
    "            name=\"Async Sample Row\",\n",
    "            ideal_output=\"Expected output for this row\",\n",
    "            metadata={\"source\": \"async_example\", \"type\": \"demo\"}\n",
    "        )\n",
    "        \n",
    "        if err:\n",
    "            print(f\"Error adding row to dataset: {err}\")\n",
    "        elif warning:\n",
    "            print(f\"Row added with warning: {warning}\")\n",
    "            print(f\"Row values: {row.values}\")\n",
    "        else:\n",
    "            print(f\"Row added successfully\")\n",
    "            print(f\"Row values: {row.values}\")\n",
    "            print(f\"Row name: {row.name}\")\n",
    "\n",
    "# Run the async function\n",
    "await add_row(sample_dataset)"
   ]
  },
  {
   "cell_type": "markdown",
   "metadata": {},
   "source": [
    "## Example 4: Asynchronously Get a Dataset as an Object\n",
    "\n",
    "This example demonstrates how to retrieve a dataset as an object for further manipulation."
   ]
  },
  {
   "cell_type": "code",
   "execution_count": null,
   "metadata": {},
   "outputs": [],
   "source": [
    "async def get_dataset_object(sample_dataset):\n",
    "    print(\"\\nGetting a dataset as an object asynchronously...\")\n",
    "    if sample_dataset:\n",
    "        dataset_obj = await basalt.datasets.async_get_dataset_object(sample_dataset.slug)\n",
    "        if dataset_obj:\n",
    "            print(f\"Retrieved dataset object: {dataset_obj.name}\")\n",
    "            print(f\"Number of rows: {len(dataset_obj.rows)}\")\n",
    "        else:\n",
    "            print(\"Failed to get dataset object\")\n",
    "        return dataset_obj\n",
    "    else:\n",
    "        print(\"No sample dataset available\")\n",
    "        return None\n",
    "\n",
    "# Run the async function\n",
    "dataset_obj = await get_dataset_object(sample_dataset)"
   ]
  },
  {
   "cell_type": "markdown",
   "metadata": {},
   "source": [
    "## Example 5: Asynchronously Add a Row to a Dataset Object\n",
    "\n",
    "This example demonstrates how to add a row directly to a dataset object."
   ]
  },
  {
   "cell_type": "code",
   "execution_count": null,
   "metadata": {},
   "outputs": [],
   "source": [
    "async def add_row_to_dataset_object(dataset_obj):\n",
    "    print(\"\\nAdding a row to a dataset object asynchronously...\")\n",
    "    if dataset_obj:\n",
    "        # Create some sample values for the dataset row\n",
    "        values = {column: f\"Another sample {column} value\" for column in dataset_obj.columns}\n",
    "        \n",
    "        row = await basalt.datasets.async_add_row_to_dataset(\n",
    "            dataset=dataset_obj,\n",
    "            values=values,\n",
    "            name=\"Another Async Sample Row\",\n",
    "            ideal_output=\"Another expected output\",\n",
    "            metadata={\"source\": \"async_dataset_object_example\", \"type\": \"demo\"}\n",
    "        )\n",
    "        \n",
    "        if row:\n",
    "            print(f\"Row added to dataset object successfully\")\n",
    "            print(f\"Row values: {row.values}\")\n",
    "            print(f\"Updated number of rows in dataset object: {len(dataset_obj.rows)}\")\n",
    "        else:\n",
    "            print(\"Failed to add row to dataset object\")\n",
    "\n",
    "# Run the async function\n",
    "await add_row_to_dataset_object(dataset_obj)"
   ]
  },
  {
   "cell_type": "markdown",
   "metadata": {},
   "source": [
    "## Example 6: Execute Multiple Dataset Operations Concurrently\n",
    "\n",
    "This example demonstrates how to execute multiple asynchronous operations concurrently for better performance."
   ]
  },
  {
   "cell_type": "code",
   "execution_count": null,
   "metadata": {},
   "outputs": [],
   "source": [
    "async def execute_concurrent_operations(sample_dataset):\n",
    "    print(\"\\nExecuting multiple dataset operations concurrently...\")\n",
    "    \n",
    "    # Create multiple async tasks\n",
    "    tasks = [\n",
    "        basalt.datasets.async_list(),\n",
    "        basalt.datasets.async_get(sample_dataset.slug) if sample_dataset else None\n",
    "    ]\n",
    "    \n",
    "    # Filter out None tasks\n",
    "    tasks = [t for t in tasks if t is not None]\n",
    "    \n",
    "    if tasks:\n",
    "        # Execute all tasks concurrently\n",
    "        results = await asyncio.gather(*tasks)\n",
    "        \n",
    "        print(f\"Completed {len(tasks)} operations concurrently\")\n",
    "        print(f\"Number of datasets listed: {len(results[0][1]) if results[0][1] else 'Error'}\")\n",
    "        if len(tasks) > 1:\n",
    "            print(f\"Retrieved dataset: {results[1][1].name if results[1][1] else 'Error'}\")\n",
    "\n",
    "# Run the async function\n",
    "await execute_concurrent_operations(sample_dataset)"
   ]
  }
 ],
 "metadata": {
  "kernelspec": {
   "display_name": "Python 3",
   "language": "python",
   "name": "python3"
  },
  "language_info": {
   "codemirror_mode": {
    "name": "ipython",
    "version": 3
   },
   "file_extension": ".py",
   "mimetype": "text/x-python",
   "name": "python",
   "nbconvert_exporter": "python",
   "pygments_lexer": "ipython3",
   "version": "3.9.0"
  }
 },
 "nbformat": 4,
 "nbformat_minor": 4
}
