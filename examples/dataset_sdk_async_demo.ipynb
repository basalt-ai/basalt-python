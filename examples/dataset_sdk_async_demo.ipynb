{
 "cells": [
  {
   "cell_type": "markdown",
   "metadata": {},
   "source": [
    "# Basalt DatasetSDK Async Demo\n",
    "\n",
    "This notebook demonstrates the asynchronous functionality of the DatasetSDK in the Basalt Python SDK."
   ]
  },
  {
   "cell_type": "code",
   "execution_count": null,
   "metadata": {},
   "outputs": [],
   "source": [
    "import sys\n",
    "import os\n",
    "sys.path.append(os.path.abspath(os.path.join(os.getcwd(), '..')))  # Needed to make notebook work in VSCode\n",
    "\n",
    "os.environ[\"BASALT_BUILD\"] = \"development\"\n",
    "\n",
    "from basalt import Basalt\n",
    "\n",
    "# Initialize the SDK\n",
    "basalt = Basalt(\n",
    "    api_key=\"sk-f50...\",  # Replace with your API key\n",
    "    log_level=\"debug\"  # Optional: Set log level\n",
    ")"
   ]
  },
  {
   "cell_type": "markdown",
   "metadata": {},
   "source": [
    "## Example 1: Asynchronously List All Datasets\n",
    "\n",
    "This example demonstrates how to list all datasets asynchronously."
   ]
  },
  {
   "cell_type": "code",
   "execution_count": null,
   "metadata": {},
   "outputs": [],
   "source": [
    "async def list_datasets():\n",
    "    print(\"Listing all datasets asynchronously...\")\n",
    "    err, datasets = await basalt.datasets.async_list()\n",
    "    if err:\n",
    "        print(f\"Error listing datasets: {err}\")\n",
    "    else:\n",
    "        print(f\"Found {len(datasets)} datasets\")\n",
    "        for dataset in datasets:\n",
    "            print(f\"- {dataset.name} (slug: {dataset.slug})\")\n",
    "    return datasets\n",
    "\n",
    "# Run the async function\n",
    "datasets = await list_datasets()"
   ]
  },
  {
   "cell_type": "markdown",
   "metadata": {},
   "source": [
    "## Example 2: Asynchronously Get a Specific Dataset\n",
    "\n",
    "This example demonstrates how to retrieve a specific dataset by its slug."
   ]
  },
  {
   "cell_type": "code",
   "execution_count": null,
   "metadata": {},
   "outputs": [],
   "source": [
    "async def get_dataset(datasets):\n",
    "    print(\"\\nGetting a specific dataset asynchronously...\")\n",
    "    if len(datasets) > 0:\n",
    "        sample_dataset = datasets[0]\n",
    "        err, dataset = await basalt.datasets.async_get(sample_dataset.slug)\n",
    "        if err:\n",
    "            print(f\"Error getting dataset: {err}\")\n",
    "        else:\n",
    "            print(f\"Retrieved dataset: {dataset.name}\")\n",
    "            print(f\"Columns: {dataset.columns}\")\n",
    "            print(f\"Number of rows: {len(dataset.rows) if dataset.rows else 0}\")\n",
    "        return sample_dataset, dataset\n",
    "    else:\n",
    "        print(\"No datasets available\")\n",
    "        return None, None\n",
    "\n",
    "# Run the async function\n",
    "sample_dataset, dataset = await get_dataset(datasets)"
   ]
  },
  {
   "cell_type": "markdown",
   "metadata": {},
   "source": [
    "## Example 3: Asynchronously Add a Row to a Dataset\n",
    "\n",
    "This example demonstrates how to add a new row to an existing dataset."
   ]
  },
  {
   "cell_type": "code",
   "execution_count": null,
   "metadata": {},
   "outputs": [],
   "source": [
    "async def add_row(sample_dataset):\n",
    "    print(\"\\nAdding a row to a dataset asynchronously...\")\n",
    "    if sample_dataset:\n",
    "        # Create some sample values for the dataset row\n",
    "        values = {column: f\"Sample {column} value\" for column in sample_dataset.columns}\n",
    "        \n",
    "        err, row, warning = await basalt.datasets.async_addRow(\n",
    "            slug=sample_dataset.slug,\n",
    "            values=values,\n",
    "            name=\"Async Sample Row\",\n",
    "            ideal_output=\"Expected output for this row\",\n",
    "            metadata={\"source\": \"async_example\", \"type\": \"demo\"}\n",
    "        )\n",
    "        \n",
    "        if err:\n",
    "            print(f\"Error adding row to dataset: {err}\")\n",
    "        elif warning:\n",
    "            print(f\"Row added with warning: {warning}\")\n",
    "            print(f\"Row values: {row.values}\")\n",
    "        else:\n",
    "            print(f\"Row added successfully\")\n",
    "            print(f\"Row values: {row.values}\")\n",
    "            print(f\"Row name: {row.name}\")\n",
    "\n",
    "# Run the async function\n",
    "await add_row(sample_dataset)"
   ]
  }
 ],
 "metadata": {
  "kernelspec": {
   "display_name": ".venv",
   "language": "python",
   "name": "python3"
  },
  "language_info": {
   "codemirror_mode": {
    "name": "ipython",
    "version": 3
   },
   "file_extension": ".py",
   "mimetype": "text/x-python",
   "name": "python",
   "nbconvert_exporter": "python",
   "pygments_lexer": "ipython3",
   "version": "3.13.3"
  }
 },
 "nbformat": 4,
 "nbformat_minor": 4
}
