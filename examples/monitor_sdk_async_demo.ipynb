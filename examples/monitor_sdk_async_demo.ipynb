{
 "cells": [
  {
   "cell_type": "markdown",
   "metadata": {},
   "source": [
    "# Basalt MonitorSDK Async Demo\n",
    "\n",
    "This notebook demonstrates the asynchronous functionality of the MonitorSDK in the Basalt Python SDK."
   ]
  },
  {
   "cell_type": "code",
   "execution_count": null,
   "metadata": {},
   "outputs": [],
   "source": [
    "import sys\n",
    "import os\n",
    "sys.path.append(os.path.abspath(os.path.join(os.getcwd(), '..')))  # Needed to make notebook work in VSCode\n",
    "\n",
    "os.environ[\"BASALT_BUILD\"] = \"development\"\n",
    "\n",
    "from basalt import Basalt\n",
    "from basalt.ressources.monitor.monitorsdk_types import (\n",
    "    ExperimentParams, TraceParams, GenerationParams, LogParams\n",
    ")\n",
    "\n",
    "# Initialize the SDK\n",
    "basalt = Basalt(\n",
    "    api_key=\"sk-f50...\",  # Replace with your API key\n",
    "    log_level=\"debug\"  # Optional: Set log level\n",
    ")"
   ]
  },
  {
   "cell_type": "markdown",
   "metadata": {},
   "source": [
    "## Example 1: Asynchronously Create a Trace\n",
    "\n",
    "This example demonstrates how to create a trace asynchronously."
   ]
  },
  {
   "cell_type": "code",
   "execution_count": null,
   "metadata": {},
   "outputs": [],
   "source": [
    "async def create_trace():\n",
    "    print(\"Creating a trace asynchronously...\")\n",
    "    trace_params = TraceParams(\n",
    "        name=\"Async Test Trace\",\n",
    "        metadata={\"source\": \"async_example\", \"type\": \"demo\"}\n",
    "    )\n",
    "    \n",
    "    trace = await basalt.monitor.async_create_trace(\n",
    "        slug=\"async-test-trace\",\n",
    "        params=trace_params\n",
    "    )\n",
    "    \n",
    "    print(f\"Created trace: {trace.id}\")\n",
    "    print(f\"Trace name: {trace.name}\")\n",
    "    print(f\"Trace slug: {trace.slug}\")\n",
    "    \n",
    "    return trace\n",
    "\n",
    "# Run the async function\n",
    "trace = await create_trace()"
   ]
  },
  {
   "cell_type": "markdown",
   "metadata": {},
   "source": [
    "## Example 2: Asynchronously Create a Generation\n",
    "\n",
    "This example demonstrates how to create a generation associated with a trace."
   ]
  },
  {
   "cell_type": "code",
   "execution_count": null,
   "metadata": {},
   "outputs": [],
   "source": [
    "async def create_generation(trace):\n",
    "    print(\"\\nCreating a generation asynchronously...\")\n",
    "    gen_params = GenerationParams(\n",
    "        trace_id=trace.id,\n",
    "        text=\"This is an async test generation\",\n",
    "        model_id=\"gpt-4\",\n",
    "        prompt=\"Generate a response asynchronously\",\n",
    "        metadata={\"source\": \"async_example\", \"type\": \"demo\"}\n",
    "    )\n",
    "    \n",
    "    generation = await basalt.monitor.async_create_generation(gen_params)\n",
    "    \n",
    "    print(f\"Created generation: {generation.id}\")\n",
    "    print(f\"Generation text: {generation.text}\")\n",
    "    print(f\"Generation model: {generation.model_id}\")\n",
    "    \n",
    "    return generation\n",
    "\n",
    "# Run the async function\n",
    "generation = await create_generation(trace)"
   ]
  },
  {
   "cell_type": "markdown",
   "metadata": {},
   "source": [
    "## Example 3: Asynchronously Create a Log\n",
    "\n",
    "This example demonstrates how to create a log entry associated with a trace."
   ]
  },
  {
   "cell_type": "code",
   "execution_count": null,
   "metadata": {},
   "outputs": [],
   "source": [
    "async def create_log(trace):\n",
    "    print(\"\\nCreating a log asynchronously...\")\n",
    "    log_params = LogParams(\n",
    "        trace_id=trace.id,\n",
    "        type=\"info\",\n",
    "        message=\"This is an async test log message\",\n",
    "        metadata={\"source\": \"async_example\", \"type\": \"demo\"}\n",
    "    )\n",
    "    \n",
    "    log = await basalt.monitor.async_create_log(log_params)\n",
    "    \n",
    "    print(f\"Created log: {log['id']}\")\n",
    "    print(f\"Log message: {log['message']}\")\n",
    "    print(f\"Log type: {log['type']}\")\n",
    "    \n",
    "    return log\n",
    "\n",
    "# Run the async function\n",
    "log = await create_log(trace)"
   ]
  },
  {
   "cell_type": "markdown",
   "metadata": {},
   "source": [
    "## Example 4: Asynchronously Create an Experiment\n",
    "\n",
    "This example demonstrates how to create an experiment."
   ]
  },
  {
   "cell_type": "code",
   "execution_count": null,
   "metadata": {},
   "outputs": [],
   "source": [
    "async def create_experiment():\n",
    "    print(\"\\nCreating an experiment asynchronously...\")\n",
    "    exp_params = ExperimentParams(\n",
    "        type=\"A/B Test\",\n",
    "        name=\"Async Test Experiment\",\n",
    "        setup={\n",
    "            \"control_id\": \"control-prompt\",\n",
    "            \"variation_id\": \"test-prompt\"\n",
    "        }\n",
    "    )\n",
    "    \n",
    "    experiment = await basalt.monitor.async_create_experiment(\n",
    "        \"async-test-feature\",\n",
    "        exp_params\n",
    "    )\n",
    "    \n",
    "    print(f\"Created experiment: {experiment.id}\")\n",
    "    print(f\"Experiment name: {experiment.name}\")\n",
    "    print(f\"Experiment type: {experiment.type}\")\n",
    "    \n",
    "    return experiment\n",
    "\n",
    "# Run the async function\n",
    "experiment = await create_experiment()"
   ]
  },
  {
   "cell_type": "markdown",
   "metadata": {},
   "source": [
    "## Example 5: Execute Multiple Monitoring Operations Concurrently\n",
    "\n",
    "This example demonstrates how to execute multiple asynchronous monitoring operations concurrently for better performance."
   ]
  },
  {
   "cell_type": "code",
   "execution_count": null,
   "metadata": {},
   "outputs": [],
   "source": [
    "async def execute_concurrent_operations():\n",
    "    print(\"\\nExecuting multiple monitoring operations concurrently...\")\n",
    "    \n",
    "    # Create trace parameters for concurrent operations\n",
    "    trace_params1 = TraceParams(\n",
    "        name=\"Concurrent Trace 1\",\n",
    "        metadata={\"source\": \"async_concurrent_example\", \"trace_number\": 1}\n",
    "    )\n",
    "    \n",
    "    trace_params2 = TraceParams(\n",
    "        name=\"Concurrent Trace 2\",\n",
    "        metadata={\"source\": \"async_concurrent_example\", \"trace_number\": 2}\n",
    "    )\n",
    "    \n",
    "    # Create multiple async tasks\n",
    "    tasks = [\n",
    "        basalt.monitor.async_create_trace(\"concurrent-trace-1\", trace_params1),\n",
    "        basalt.monitor.async_create_trace(\"concurrent-trace-2\", trace_params2)\n",
    "    ]\n",
    "    \n",
    "    # Execute all tasks concurrently\n",
    "    results = await asyncio.gather(*tasks)\n",
    "    \n",
    "    print(f\"Completed {len(tasks)} operations concurrently\")\n",
    "    print(f\"First trace: {results[0].name} (id: {results[0].id})\")\n",
    "    print(f\"Second trace: {results[1].name} (id: {results[1].id})\")\n",
    "\n",
    "# Run the async function\n",
    "await execute_concurrent_operations()"
   ]
  }
 ],
 "metadata": {
  "kernelspec": {
   "display_name": "Python 3",
   "language": "python",
   "name": "python3"
  },
  "language_info": {
   "codemirror_mode": {
    "name": "ipython",
    "version": 3
   },
   "file_extension": ".py",
   "mimetype": "text/x-python",
   "name": "python",
   "nbconvert_exporter": "python",
   "pygments_lexer": "ipython3",
   "version": "3.9.0"
  }
 },
 "nbformat": 4,
 "nbformat_minor": 4
}
